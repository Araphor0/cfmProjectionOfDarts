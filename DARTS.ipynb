{
 "cells": [
  {
   "cell_type": "markdown",
   "id": "5d759e5f",
   "metadata": {},
   "source": [
    "## Mechanics of darts - Phase I"
   ]
  },
  {
   "cell_type": "code",
   "execution_count": 1,
   "id": "5e1c7d12",
   "metadata": {},
   "outputs": [],
   "source": [
    "import numpy\n",
    "import math"
   ]
  },
  {
   "cell_type": "code",
   "execution_count": 2,
   "id": "617bc844",
   "metadata": {},
   "outputs": [],
   "source": [
    "# Creating Phase I.\n",
    "# assuming no air resistance, \n",
    "# asuming dart always hits wall,\n",
    "# frame of reference: shot origin has same coordinates [z,y] aas the bullseye \n",
    "# 1.73m is from floor to bullseye (height)"
   ]
  },
  {
   "cell_type": "code",
   "execution_count": 3,
   "id": "7aca65a4",
   "metadata": {},
   "outputs": [],
   "source": [
    "class projectile:\n",
    "    \n",
    "\n",
    "    \"\"\"\n",
    "    A class for the projectile motion of the dart.\n",
    "    \"\"\"\n",
    "    \n",
    "    def range(swivel_angle):\n",
    "        \n",
    "        \"\"\"\n",
    "        this is the range of the projectile assuming it hits the board at d = 8m. \n",
    "        \"\"\"\n",
    "        d = 8     # distance 8 metres away from dartboard\n",
    "        \n",
    "        k = (math.pi / 180) ## degrees to radians converter since trig fucntions take radians\n",
    "        \n",
    "        return d / (math.cos(swivel_angle * k))\n",
    "    \n",
    "    \n",
    "    \n",
    "    def height(tilt_angle, swivel_angle, initial_velocity):\n",
    "        \n",
    "        \"\"\"\n",
    "        this is the distance in the y-direction relative to the bullseye.\n",
    "        \"\"\"\n",
    "        \n",
    "        g = -9.81\n",
    "        k = (math.pi / 180)\n",
    "        \n",
    "        global R_x\n",
    "        R_x = projectile.range(swivel_angle)\n",
    "        \n",
    "        \n",
    "        return R_x * math.tan(k*tilt_angle) - ((g * R_x)/(2 * initial_velocity **2 * math.cos(k*tilt_angle )**2 ))\n",
    "    \n",
    "    \n",
    "    def shift(tilt_angle, swivel_angle, initial_velocity):\n",
    "        \"\"\"\n",
    "        this is the distance in the z-direction relative to the bullseye.\n",
    "        \"\"\"\n",
    "        d=8\n",
    "        k = (math.pi / 180)\n",
    "        R_x = projectile.range(swivel_angle)\n",
    "        \n",
    "        \n",
    "        if swivel_angle < 0:\n",
    "            return - math.sqrt((R_x**2) - (d**2))\n",
    "        if swivel_angle == 0:\n",
    "            return 0\n",
    "        if swivel_angle > 0:\n",
    "            return math.sqrt((R_x**2) - (d**2))\n",
    "        \n",
    "\n",
    "    "
   ]
  },
  {
   "cell_type": "code",
   "execution_count": null,
   "id": "8dcb2a20",
   "metadata": {},
   "outputs": [],
   "source": []
  },
  {
   "cell_type": "code",
   "execution_count": null,
   "id": "8416e6d3",
   "metadata": {},
   "outputs": [],
   "source": []
  },
  {
   "cell_type": "code",
   "execution_count": null,
   "id": "4da483a9",
   "metadata": {},
   "outputs": [],
   "source": []
  },
  {
   "cell_type": "code",
   "execution_count": null,
   "id": "b726b338",
   "metadata": {},
   "outputs": [],
   "source": []
  },
  {
   "cell_type": "code",
   "execution_count": 4,
   "id": "71427343",
   "metadata": {},
   "outputs": [],
   "source": [
    "class coordinates: \n",
    "    \n",
    "    def cartesian_coordinates(tilt_angle, swivel_angle, initial_velocity):\n",
    "\n",
    "        z = projectile.shift(tilt_angle, swivel_angle, initial_velocity)\n",
    "        y = projectile.height(tilt_angle, swivel_angle, initial_velocity)\n",
    "\n",
    "        return [z,y]\n",
    "\n",
    "\n",
    "    def theta(tilt_angle, swivel_angle, initial_velocity):\n",
    "\n",
    "        \"\"\"\n",
    "        this gives us our theta value used to determine score\n",
    "        \"\"\"\n",
    "\n",
    "        k = math.pi / 180 ## this is used to counteract the radians output of the functions math does. \n",
    "\n",
    "        z = projectile.shift(tilt_angle, swivel_angle, initial_velocity)\n",
    "        y = projectile.height(tilt_angle, swivel_angle, initial_velocity)\n",
    "\n",
    "        if y==0 and z>0:\n",
    "            return 90\n",
    "        if y==0 and z<0:\n",
    "            return 270\n",
    "        if z==0 and y>0:\n",
    "            return 0\n",
    "        if z==0 and y<0 :\n",
    "            return 180\n",
    "        if z>0 and y>0:\n",
    "            return math.atan(y/z) * (k**-1)\n",
    "        if z<0 and y>0:\n",
    "            return 180 - math.atan(abs(y/z)) * (k**-1)\n",
    "        if z<0 and y<0: \n",
    "            return  180 + math.atan(y/z) * (k**-1)\n",
    "        if z>0 and y>0:\n",
    "            return 360 - math.atan(abs(y/z)) * (k**-1)\n",
    "\n",
    "\n",
    "    def r(tilt_angle, swivel_angle, initial_velocity):\n",
    "\n",
    "        \"\"\"\n",
    "        this gives us our r value used to determine score\n",
    "        \"\"\"\n",
    "\n",
    "\n",
    "        z = projectile.shift(tilt_angle, swivel_angle, initial_velocity)\n",
    "        y = projectile.height(tilt_angle, swivel_angle, initial_velocity)\n",
    "\n",
    "        r = math.sqrt((z)**2 + (y)**2)\n",
    "    \n",
    "        return r \n",
    "    \n",
    "    \n",
    "    \n",
    "    def polar_coordinates(tilt_angle, swivel_angle, initial_velocity):\n",
    "    \n",
    "        \"\"\"\n",
    "        this function combines the projectiles and coordinates class to create the r and theta used in the scores class.\n",
    "        \"\"\"\n",
    "\n",
    "        r = coordinates.r(tilt_angle, swivel_angle, initial_velocity)\n",
    "        theta = coordinates.theta(tilt_angle, swivel_angle, initial_velocity)\n",
    "\n",
    "        return [r, theta]"
   ]
  },
  {
   "cell_type": "code",
   "execution_count": 5,
   "id": "aaa3be68",
   "metadata": {},
   "outputs": [
    {
     "data": {
      "text/plain": [
       "[1.3033672405135193, 57.52029425960465]"
      ]
     },
     "execution_count": 5,
     "metadata": {},
     "output_type": "execute_result"
    }
   ],
   "source": [
    "coordinates.polar_coordinates(5,5,10)"
   ]
  },
  {
   "cell_type": "code",
   "execution_count": null,
   "id": "93f5d39b",
   "metadata": {},
   "outputs": [],
   "source": []
  },
  {
   "cell_type": "code",
   "execution_count": null,
   "id": "6fa4ac51",
   "metadata": {},
   "outputs": [],
   "source": []
  },
  {
   "cell_type": "code",
   "execution_count": null,
   "id": "1945730c",
   "metadata": {},
   "outputs": [],
   "source": []
  },
  {
   "cell_type": "code",
   "execution_count": null,
   "id": "a731f14e",
   "metadata": {},
   "outputs": [],
   "source": []
  },
  {
   "cell_type": "markdown",
   "id": "0084e647",
   "metadata": {},
   "source": [
    "## Scores - Phase II"
   ]
  },
  {
   "cell_type": "code",
   "execution_count": 6,
   "id": "4cda504c",
   "metadata": {},
   "outputs": [],
   "source": [
    "class scores:\n",
    "\n",
    "    def initial_score(theta):\n",
    "\n",
    "        '''\n",
    "        this function takes the value of \n",
    "        theta and outputs the INITIAL\n",
    "        score that is obtained from that value.\n",
    "        '''\n",
    "\n",
    "        \n",
    "\n",
    "        ## need to add case of 0\n",
    "        \n",
    "        if theta >= 351 or theta < 9:\n",
    "            return 20\n",
    "        elif theta >= 9 and theta < 27:\n",
    "            return 1\n",
    "        elif theta >= 27 and theta < 45:\n",
    "            return 18\n",
    "        elif theta >= 45 and theta < 63:\n",
    "            return 4\n",
    "        elif theta >= 63 and theta < 81:\n",
    "            return 13\n",
    "        elif theta >= 81 and theta < 99:\n",
    "            return 6\n",
    "        elif theta >= 99 and theta < 117:\n",
    "            return 10\n",
    "        elif theta >= 117 and theta < 135:\n",
    "            return 15\n",
    "        elif theta >= 135 and theta < 153:\n",
    "            return 2\n",
    "        elif theta >= 153 and theta < 171:\n",
    "            return 17\n",
    "        elif theta >= 171 and theta < 189:\n",
    "            return 3\n",
    "        elif theta >= 189 and theta < 207:\n",
    "            return 19\n",
    "        elif theta >= 207 and theta < 225:\n",
    "            return 7\n",
    "        elif theta >= 225 and theta < 243:\n",
    "            return 16\n",
    "        elif theta >= 243 and theta < 261:\n",
    "            return 8\n",
    "        elif theta >= 261 and theta < 279:\n",
    "            return 11\n",
    "        elif theta >= 279 and theta < 297:\n",
    "            return 14\n",
    "        elif theta >= 297 and theta < 315:\n",
    "            return 9\n",
    "        elif theta >= 315 and theta < 333:\n",
    "            return 12\n",
    "        elif theta >= 333 and theta < 351:\n",
    "            return 5\n",
    "        \n",
    "    def final_score(r, theta):\n",
    "    \n",
    "            \"\"\"\n",
    "            this function will take the initial_score value and depending solely \n",
    "            on our r value  (in accordance to the points system of darts) will output \n",
    "            the following:\n",
    "\n",
    "\n",
    "              0 <= r < r_1   ---   bullseye, gives 50\n",
    "\n",
    "            r_1 <= r < r_2   ---   25 ring, gives 25\n",
    "\n",
    "            r_2 <= r < r_3   ---   blank, gives initial score as is  \n",
    "\n",
    "            r_3 <= r < r_4   ---   triple ring, multiplies initial score by 3\n",
    "\n",
    "            r_4 <= r < r_5   ---   blank, gives initial score as is \n",
    "\n",
    "            r_5 <= r < r_6   ---   double ring, multiplies initial score by 2\n",
    "\n",
    "                  r >= r_6   ---   missed shot, null score (0)\n",
    "\n",
    "            \"\"\"\n",
    "\n",
    "\n",
    "\n",
    "            ## defining dartboard r_n values in meters [m]\n",
    "            ## https://dartsavvy.com/dart-board-dimensions-and-sizes/\n",
    "\n",
    "            r_1 = 0.0127 / 2\n",
    "            r_2 = 0.0318 / 2\n",
    "            r_3 = 0.107\n",
    "            r_4 = 0.107 + 0.008\n",
    "            r_5 =  0.170 - 0.008\n",
    "            r_6 = 0.170\n",
    "\n",
    "            ## defining intial_score\n",
    "\n",
    "            global score_i \n",
    "            score_i = scores.initial_score(theta) \n",
    "\n",
    "\n",
    "\n",
    "            if r < r_1:\n",
    "                return 50\n",
    "            elif  r_1 <= r and r < r_2:\n",
    "                return 25\n",
    "            elif r_2 <= r and r < r_3:\n",
    "                return score_i\n",
    "            elif r_3 <= r and r < r_4: \n",
    "                return score_i * 3\n",
    "            elif r_4 <= r and r < r_5: \n",
    "                return score_i\n",
    "            elif r_5 <= r and r < r_6:\n",
    "                return score_i * 2 \n",
    "            elif r >= r_6: \n",
    "                return  0 "
   ]
  },
  {
   "cell_type": "code",
   "execution_count": 7,
   "id": "972a1c25",
   "metadata": {},
   "outputs": [],
   "source": [
    "def dart_simulation(tilt_angle, swivel_angle, initial_velocity):\n",
    "    \n",
    "    r = coordinates.r(tilt_angle, swivel_angle, initial_velocity)\n",
    "    theta = coordinates.theta(tilt_angle, swivel_angle, initial_velocity)\n",
    "\n",
    "    return scores.final_score(r, theta)"
   ]
  },
  {
   "cell_type": "code",
   "execution_count": null,
   "id": "531d9264",
   "metadata": {},
   "outputs": [],
   "source": []
  },
  {
   "cell_type": "code",
   "execution_count": 8,
   "id": "5d5ee245",
   "metadata": {},
   "outputs": [
    {
     "data": {
      "text/plain": [
       "[-0.4192622342643195, 5.100271654082151]"
      ]
     },
     "execution_count": 8,
     "metadata": {},
     "output_type": "execute_result"
    }
   ],
   "source": [
    "coordinates.cartesian_coordinates(5,-3,3)\n",
    "\n",
    "## note that the radius is far too large\n",
    "## It needs to be in the region of around 0.170 to even hit."
   ]
  },
  {
   "cell_type": "code",
   "execution_count": 9,
   "id": "8a0cf3ca",
   "metadata": {
    "scrolled": true
   },
   "outputs": [
    {
     "data": {
      "text/plain": [
       "0"
      ]
     },
     "execution_count": 9,
     "metadata": {},
     "output_type": "execute_result"
    }
   ],
   "source": [
    "dart_simulation(0,0,10) \n",
    "\n",
    "## the above reason is why we get 0 as final score, \n",
    "## since r is too large. I think it's an error in\n",
    "## how the trig functions are working.\n"
   ]
  },
  {
   "cell_type": "code",
   "execution_count": 10,
   "id": "6dcc5f77",
   "metadata": {},
   "outputs": [
    {
     "data": {
      "text/plain": [
       "6"
      ]
     },
     "execution_count": 10,
     "metadata": {},
     "output_type": "execute_result"
    }
   ],
   "source": [
    "dart_simulation(0.1,0.1,18) \n",
    "\n",
    "## it does seem to work with TINY angles \n",
    "## the scores class, but there \n",
    "## is definitely some mistake somehwere.It's either \n",
    "## interpreting radians or degrees somewhere \n",
    "## when it shouldn't, or outputting the wrong \n",
    "## type of angel"
   ]
  },
  {
   "cell_type": "code",
   "execution_count": null,
   "id": "d59bddc5",
   "metadata": {},
   "outputs": [],
   "source": []
  }
 ],
 "metadata": {
  "kernelspec": {
   "display_name": "Python 3 (ipykernel)",
   "language": "python",
   "name": "python3"
  },
  "language_info": {
   "codemirror_mode": {
    "name": "ipython",
    "version": 3
   },
   "file_extension": ".py",
   "mimetype": "text/x-python",
   "name": "python",
   "nbconvert_exporter": "python",
   "pygments_lexer": "ipython3",
   "version": "3.9.7"
  }
 },
 "nbformat": 4,
 "nbformat_minor": 5
}
